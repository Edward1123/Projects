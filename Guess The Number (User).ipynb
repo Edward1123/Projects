{
 "cells": [
  {
   "cell_type": "code",
   "execution_count": 1,
   "id": "75ea46be",
   "metadata": {},
   "outputs": [],
   "source": [
    "import random"
   ]
  },
  {
   "cell_type": "code",
   "execution_count": 2,
   "id": "37e35395",
   "metadata": {},
   "outputs": [],
   "source": [
    "def guess(x):\n",
    "    random_number = random.randint(1,x)\n",
    "    guess = 0\n",
    "    while guess != random_number:\n",
    "        guess = int(input(f'Guess a number between 1 and {x}: '))\n",
    "        print(guess)\n",
    "        if guess < random_number:\n",
    "            print('sorry, guess again, too low: ')\n",
    "        elif guess > random_number:\n",
    "            print(\"sorry, guess again, too high: \")\n",
    "    print(f'Congrats, you have guessed the number {random_number} correctly')\n"
   ]
  },
  {
   "cell_type": "code",
   "execution_count": null,
   "id": "981108f0",
   "metadata": {},
   "outputs": [],
   "source": [
    "guess(40)"
   ]
  }
 ],
 "metadata": {
  "kernelspec": {
   "display_name": "Python 3 (ipykernel)",
   "language": "python",
   "name": "python3"
  },
  "language_info": {
   "codemirror_mode": {
    "name": "ipython",
    "version": 3
   },
   "file_extension": ".py",
   "mimetype": "text/x-python",
   "name": "python",
   "nbconvert_exporter": "python",
   "pygments_lexer": "ipython3",
   "version": "3.9.12"
  }
 },
 "nbformat": 4,
 "nbformat_minor": 5
}
