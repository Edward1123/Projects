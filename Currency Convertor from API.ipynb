{
 "cells": [
  {
   "cell_type": "code",
   "execution_count": 1,
   "metadata": {},
   "outputs": [],
   "source": [
    "# Currency Convertor"
   ]
  },
  {
   "cell_type": "code",
   "execution_count": 1,
   "metadata": {},
   "outputs": [],
   "source": [
    "import requests\n",
    "import json\n",
    "from requests.structures import CaseInsensitiveDict"
   ]
  },
  {
   "cell_type": "code",
   "execution_count": 12,
   "metadata": {},
   "outputs": [],
   "source": [
    "# API for real-time exchange rates\n",
    "\n",
    "url = \"https://api.currencyapi.com/v3/latest?apikey=xZLhuMgyUVKZSySrwGYbj2s41S6YHzUkI1kqBraK\"\n",
    "\n",
    "resp = requests.get(url)\n",
    "\n",
    "currencies = json.loads(resp.content)"
   ]
  },
  {
   "cell_type": "code",
   "execution_count": 4,
   "metadata": {},
   "outputs": [],
   "source": [
    "# copied the results from api to a local json file not to stress the api\n",
    "\n",
    "# f = open(\"api.json\", \"a\")\n",
    "# f.write(str(currencies))\n",
    "# f.close()"
   ]
  },
  {
   "cell_type": "code",
   "execution_count": 2,
   "metadata": {},
   "outputs": [],
   "source": [
    "with open('api.json') as f:\n",
    "   data = json.load(f)"
   ]
  },
  {
   "cell_type": "code",
   "execution_count": 15,
   "metadata": {},
   "outputs": [],
   "source": [
    "def convertor(conv_from, conv_to, amount):\n",
    "    # To work directly from the API, change 'data' to 'currencies'\n",
    "    if conv_from in data['data']:\n",
    "        if conv_to in data['data']:\n",
    "            result = data['data'][conv_to]['value'] / data['data'][conv_from]['value'] * amount\n",
    "\n",
    "    print(f'you exchanged {amount} {conv_from} to {conv_to} and now you have {result} {conv_to} ')"
   ]
  },
  {
   "cell_type": "code",
   "execution_count": 16,
   "metadata": {},
   "outputs": [
    {
     "name": "stdout",
     "output_type": "stream",
     "text": [
      "you exchanged 10000 RON to EUR and now you have 2047.6226703732339 EUR \n"
     ]
    }
   ],
   "source": [
    "convertor('RON', 'EUR', 10000)"
   ]
  },
  {
   "cell_type": "code",
   "execution_count": null,
   "metadata": {},
   "outputs": [],
   "source": []
  }
 ],
 "metadata": {
  "kernelspec": {
   "display_name": "Python 3.9.12 ('base')",
   "language": "python",
   "name": "python3"
  },
  "language_info": {
   "codemirror_mode": {
    "name": "ipython",
    "version": 3
   },
   "file_extension": ".py",
   "mimetype": "text/x-python",
   "name": "python",
   "nbconvert_exporter": "python",
   "pygments_lexer": "ipython3",
   "version": "3.9.12"
  },
  "orig_nbformat": 4,
  "vscode": {
   "interpreter": {
    "hash": "49cb93f377a7abe7414b7b0f21fb3017538004a126cf690fb524202736b7fb92"
   }
  }
 },
 "nbformat": 4,
 "nbformat_minor": 2
}
