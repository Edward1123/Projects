{
 "cells": [
  {
   "cell_type": "code",
   "execution_count": null,
   "id": "7d114b64",
   "metadata": {},
   "outputs": [],
   "source": [
    "import random"
   ]
  },
  {
   "cell_type": "code",
   "execution_count": null,
   "id": "53f211ba",
   "metadata": {},
   "outputs": [],
   "source": [
    "def is_win(player,opponent):\n",
    "    if (player == 'R' and opponent == 'S') or (player == 'P' and opponent == 'R') or (player == 'S' and opponent == 'P'):\n",
    "        return True\n",
    "    else:\n",
    "        return False"
   ]
  },
  {
   "cell_type": "code",
   "execution_count": null,
   "id": "7c31425f",
   "metadata": {},
   "outputs": [],
   "source": [
    "def play():\n",
    "    user = input('R for Rock, P for Paper and S for Scissors: ').upper()\n",
    "    computer = random.choice(['R','P','S'])\n",
    "    if user == computer:\n",
    "        return \"it's a tie!!\"\n",
    "\n",
    "    elif is_win(user,computer):\n",
    "        return 'You won!'\n",
    "\n",
    "    else:\n",
    "        return \"You lost\""
   ]
  },
  {
   "cell_type": "code",
   "execution_count": null,
   "id": "6e08033d",
   "metadata": {},
   "outputs": [],
   "source": [
    "play()"
   ]
  },
  {
   "cell_type": "code",
   "execution_count": null,
   "id": "bbcb659f",
   "metadata": {},
   "outputs": [],
   "source": []
  }
 ],
 "metadata": {
  "kernelspec": {
   "display_name": "Python 3 (ipykernel)",
   "language": "python",
   "name": "python3"
  },
  "language_info": {
   "codemirror_mode": {
    "name": "ipython",
    "version": 3
   },
   "file_extension": ".py",
   "mimetype": "text/x-python",
   "name": "python",
   "nbconvert_exporter": "python",
   "pygments_lexer": "ipython3",
   "version": "3.9.12"
  }
 },
 "nbformat": 4,
 "nbformat_minor": 5
}
