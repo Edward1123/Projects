{
 "cells": [
  {
   "cell_type": "code",
   "execution_count": null,
   "id": "db5fff70",
   "metadata": {},
   "outputs": [],
   "source": [
    "import random"
   ]
  },
  {
   "cell_type": "code",
   "execution_count": null,
   "id": "19d9650f",
   "metadata": {},
   "outputs": [],
   "source": [
    "def computer_guess(x):\n",
    "    low = 1\n",
    "    high = x\n",
    "    feedback = ''\n",
    "    while feedback != 'c':\n",
    "        if low != high:\n",
    "            guess = random.randint(low,high)\n",
    "        else:\n",
    "            guess = low\n",
    "        guess = random.randint(low,high)\n",
    "        feedback = input(f'Is {guess} too high (H) or too low (L), or correct (C)?? ').lower()\n",
    "        if feedback == 'h':\n",
    "            high = guess - 1\n",
    "        elif feedback == 'l':\n",
    "            low = guess + 1\n",
    "    print(f'Congrats, the numbers was correct!! {guess}')"
   ]
  },
  {
   "cell_type": "code",
   "execution_count": null,
   "id": "251500c8",
   "metadata": {},
   "outputs": [],
   "source": [
    "computer_guess(50)"
   ]
  },
  {
   "cell_type": "code",
   "execution_count": null,
   "id": "46962e4a",
   "metadata": {},
   "outputs": [],
   "source": []
  }
 ],
 "metadata": {
  "kernelspec": {
   "display_name": "Python 3 (ipykernel)",
   "language": "python",
   "name": "python3"
  },
  "language_info": {
   "codemirror_mode": {
    "name": "ipython",
    "version": 3
   },
   "file_extension": ".py",
   "mimetype": "text/x-python",
   "name": "python",
   "nbconvert_exporter": "python",
   "pygments_lexer": "ipython3",
   "version": "3.9.12"
  }
 },
 "nbformat": 4,
 "nbformat_minor": 5
}
