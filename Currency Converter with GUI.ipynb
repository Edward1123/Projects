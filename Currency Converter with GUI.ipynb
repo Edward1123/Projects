{
 "cells": [
  {
   "cell_type": "code",
   "execution_count": 1,
   "metadata": {},
   "outputs": [],
   "source": [
    "from tkinter import *\n",
    "from forex_python.converter import CurrencyRates\n"
   ]
  },
  {
   "cell_type": "code",
   "execution_count": 2,
   "metadata": {},
   "outputs": [],
   "source": [
    "rates = CurrencyRates()"
   ]
  },
  {
   "cell_type": "code",
   "execution_count": 3,
   "metadata": {},
   "outputs": [],
   "source": [
    "window = Tk()\n",
    "window.title('Currency Exchange')\n",
    "window.configure(background='black')"
   ]
  },
  {
   "cell_type": "code",
   "execution_count": 4,
   "metadata": {},
   "outputs": [],
   "source": [
    "textentry = Label (window, text='Enter the currency you want to convert FROM: ', bg='black', fg='white', font='none 12 bold') .grid(row=1, column=0, sticky=W)\n",
    "one = Entry(window, width=20, bg='white')\n",
    "one.grid(row=2, column=0, sticky=W)\n",
    "textentry = Label (window, text='Enter the currency you want to convert TO: ', bg='black', fg='white', font='none 12 bold') .grid(row=3, column=0, sticky=W)\n",
    "two = Entry(window, width=20, bg='white')\n",
    "two.grid(row=4, column=0, sticky=W)\n",
    "textentry = Label (window, text='Enter the AMOUNT: ', bg='black', fg='white', font='none 12 bold') .grid(row=5, column=0, sticky=W)\n",
    "three = Entry(window, width=20, bg='white')\n",
    "three.grid(row=6, column=0, sticky=W)"
   ]
  },
  {
   "cell_type": "code",
   "execution_count": 5,
   "metadata": {},
   "outputs": [],
   "source": [
    "output = Text (window, width=75, height=6, wrap=WORD, background='white')\n",
    "output.grid (row=9, column=0, columnspan=2, sticky=W)"
   ]
  },
  {
   "cell_type": "code",
   "execution_count": 6,
   "metadata": {},
   "outputs": [],
   "source": [
    "def click():\n",
    "    convert_from = one.get()\n",
    "    convert_to = two.get()\n",
    "    amount = int(three.get())\n",
    "    output.delete(0.0, END)\n",
    "    try:\n",
    "        result = int(rates.convert(convert_from, convert_to, amount))\n",
    "    except:\n",
    "        result = \"Not valid\"\n",
    "    output.insert(END, result)"
   ]
  },
  {
   "cell_type": "code",
   "execution_count": 7,
   "metadata": {},
   "outputs": [],
   "source": [
    "Button(window, text='SUBMIT', width=6, command=click) .grid(row=7, column=0, sticky=W)"
   ]
  },
  {
   "cell_type": "code",
   "execution_count": 8,
   "metadata": {},
   "outputs": [],
   "source": [
    "Label (window, text='\\nResult: ', bg='black', fg='white', font='none 12 bold') .grid(row=8, column=0, sticky=W)"
   ]
  },
  {
   "cell_type": "code",
   "execution_count": 9,
   "metadata": {},
   "outputs": [],
   "source": [
    "window.mainloop()"
   ]
  },
  {
   "cell_type": "code",
   "execution_count": null,
   "metadata": {},
   "outputs": [],
   "source": []
  }
 ],
 "metadata": {
  "kernelspec": {
   "display_name": "Python 3.9.12 ('base')",
   "language": "python",
   "name": "python3"
  },
  "language_info": {
   "codemirror_mode": {
    "name": "ipython",
    "version": 3
   },
   "file_extension": ".py",
   "mimetype": "text/x-python",
   "name": "python",
   "nbconvert_exporter": "python",
   "pygments_lexer": "ipython3",
   "version": "3.9.12"
  },
  "orig_nbformat": 4,
  "vscode": {
   "interpreter": {
    "hash": "49cb93f377a7abe7414b7b0f21fb3017538004a126cf690fb524202736b7fb92"
   }
  }
 },
 "nbformat": 4,
 "nbformat_minor": 2
}
