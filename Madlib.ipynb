{
 "cells": [
  {
   "cell_type": "code",
   "execution_count": null,
   "id": "c6e8915d",
   "metadata": {},
   "outputs": [],
   "source": [
    "adj = input('Chose an adjective: ')\n",
    "verb1 = input('Chose a verb: ')\n",
    "verb2 = input(\"Chose another verb: \")\n",
    "famous_person = input(\"Name a famous person: \")\n",
    "\n",
    "madlib = f\"Computer programming is so {adj}! It makes me so excited all the time because \\\n",
    "I love to {verb1}. Stay hidrated and {verb2} like you are {famous_person}!\"\n",
    "\n",
    "print (madlib)\n"
   ]
  },
  {
   "cell_type": "code",
   "execution_count": null,
   "id": "446fe773",
   "metadata": {},
   "outputs": [],
   "source": []
  }
 ],
 "metadata": {
  "kernelspec": {
   "display_name": "Python 3.9.12 ('base')",
   "language": "python",
   "name": "python3"
  },
  "language_info": {
   "codemirror_mode": {
    "name": "ipython",
    "version": 3
   },
   "file_extension": ".py",
   "mimetype": "text/x-python",
   "name": "python",
   "nbconvert_exporter": "python",
   "pygments_lexer": "ipython3",
   "version": "3.9.12"
  },
  "vscode": {
   "interpreter": {
    "hash": "49cb93f377a7abe7414b7b0f21fb3017538004a126cf690fb524202736b7fb92"
   }
  }
 },
 "nbformat": 4,
 "nbformat_minor": 5
}
