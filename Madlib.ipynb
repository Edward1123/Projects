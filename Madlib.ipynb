{
 "cells": [
  {
   "cell_type": "code",
   "execution_count": 4,
   "id": "c6e8915d",
   "metadata": {},
   "outputs": [
    {
     "name": "stdout",
     "output_type": "stream",
     "text": [
      "Chose an adjective: f\n",
      "Chose a verb: d\n",
      "Chose another verb: f\n",
      "Name a famous person: f\n",
      "Computer programming is so f! It makes me so excited all the time because I love to d. Stay hidrated and f like you are f!\n"
     ]
    }
   ],
   "source": [
    "adj = input('Chose an adjective: ')\n",
    "verb1 = input('Chose a verb: ')\n",
    "verb2 = input(\"Chose another verb: \")\n",
    "famous_person = input(\"Name a famous person: \")\n",
    "\n",
    "madlib = f\"Computer programming is so {adj}! It makes me so excited all the time because \\\n",
    "I love to {verb1}. Stay hidrated and {verb2} like you are {famous_person}!\"\n",
    "\n",
    "print (madlib)\n"
   ]
  },
  {
   "cell_type": "code",
   "execution_count": null,
   "id": "446fe773",
   "metadata": {},
   "outputs": [],
   "source": []
  }
 ],
 "metadata": {
  "kernelspec": {
   "display_name": "Python 3 (ipykernel)",
   "language": "python",
   "name": "python3"
  },
  "language_info": {
   "codemirror_mode": {
    "name": "ipython",
    "version": 3
   },
   "file_extension": ".py",
   "mimetype": "text/x-python",
   "name": "python",
   "nbconvert_exporter": "python",
   "pygments_lexer": "ipython3",
   "version": "3.9.12"
  }
 },
 "nbformat": 4,
 "nbformat_minor": 5
}
